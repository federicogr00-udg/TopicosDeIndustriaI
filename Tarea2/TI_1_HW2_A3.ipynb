{
 "cells": [
  {
   "cell_type": "markdown",
   "metadata": {},
   "source": [
    "# Homework 2 - Activity 3\n",
    "\n",
    "**Name:** -- Federico Garcia Rodriguez --\n",
    "\n",
    "**e-mail:** -- federico.garcia0747@alumnos.udg.mx --\n",
    "\n",
    "**code:** -- 224807479 --"
   ]
  },
  {
   "cell_type": "markdown",
   "metadata": {},
   "source": [
    "# MODULES"
   ]
  },
  {
   "cell_type": "code",
   "execution_count": 3,
   "metadata": {},
   "outputs": [],
   "source": [
    "# Load modules\n",
    "import numpy as np\n",
    "import matplotlib.pyplot as plt\n",
    "\n",
    "import pandas as pd\n",
    "\n",
    "import math\n",
    "\n",
    "from scipy.stats import wrapcauchy\n",
    "from scipy.stats import levy_stable\n",
    "from scipy.stats import exponweib\n",
    "\n",
    "import plotly.graph_objects as go"
   ]
  },
  {
   "cell_type": "markdown",
   "metadata": {},
   "source": [
    "# Levy Distribution - Histogram + Curve"
   ]
  },
  {
   "cell_type": "code",
   "execution_count": 111,
   "metadata": {},
   "outputs": [],
   "source": [
    "m_parameter = 3\n",
    "alpha_parameter = [0.1, 0.5, 1.0, 1.9]\n",
    "beta_parameter = 0\n",
    "\n",
    "resolution = 500\n",
    "\n",
    "aux_domain = np.linspace(-2,8, resolution)\n",
    "\n",
    "levy_pdf1 = np.array([levy_stable.pdf(i, alpha_parameter[0], beta_parameter, loc=3) for i in aux_domain])\n",
    "levy_pdf2 = np.array([levy_stable.pdf(i, alpha_parameter[1], beta_parameter, loc=3) for i in aux_domain])\n",
    "levy_pdf3 = np.array([levy_stable.pdf(i, alpha_parameter[2], beta_parameter, loc=3) for i in aux_domain])\n",
    "levy_pdf4 = np.array([levy_stable.pdf(i, alpha_parameter[3], beta_parameter, loc=3) for i in aux_domain])"
   ]
  },
  {
   "cell_type": "code",
   "execution_count": null,
   "metadata": {},
   "outputs": [],
   "source": []
  }
 ],
 "metadata": {
  "kernelspec": {
   "display_name": "python310_ve",
   "language": "python",
   "name": "python310_ve"
  },
  "language_info": {
   "codemirror_mode": {
    "name": "ipython",
    "version": 3
   },
   "file_extension": ".py",
   "mimetype": "text/x-python",
   "name": "python",
   "nbconvert_exporter": "python",
   "pygments_lexer": "ipython3",
   "version": "3.10.11"
  }
 },
 "nbformat": 4,
 "nbformat_minor": 4
}
