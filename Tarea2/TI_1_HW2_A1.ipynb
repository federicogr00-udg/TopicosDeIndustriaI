{
 "cells": [
  {
   "cell_type": "markdown",
   "metadata": {},
   "source": [
    "# Homework 2 - Activity 1\n",
    "\n",
    "**Name:** -- Federico Garcia Rodriguez --\n",
    "\n",
    "**e-mail:** -- federico.garcia0747@alumnos.udg.mx --\n",
    "\n",
    "**code:** -- 224807479 --"
   ]
  },
  {
   "cell_type": "markdown",
   "metadata": {},
   "source": [
    "# MODULES"
   ]
  },
  {
   "cell_type": "code",
   "execution_count": 1,
   "metadata": {},
   "outputs": [],
   "source": [
    "# Load modules\n",
    "import numpy as np\n",
    "import matplotlib.pyplot as plt\n",
    "\n",
    "import pandas as pd\n",
    "\n",
    "import math\n",
    "\n",
    "from scipy.stats import wrapcauchy\n",
    "from scipy.stats import levy_stable\n",
    "from scipy.stats import exponweib\n",
    "\n",
    "import plotly.graph_objects as go"
   ]
  },
  {
   "cell_type": "markdown",
   "metadata": {},
   "source": [
    "# Classes"
   ]
  },
  {
   "cell_type": "code",
   "execution_count": 2,
   "metadata": {},
   "outputs": [],
   "source": [
    "class Vec2d(object):\n",
    "    \"\"\"2d vector class, supports vector and scalar operators,\n",
    "       and also provides a bunch of high level functions\n",
    "       \"\"\"\n",
    "    __slots__ = ['x', 'y']\n",
    "\n",
    "    def __init__(self, x_or_pair, y = None):\n",
    "        if y == None:            \n",
    "            self.x = x_or_pair[0]\n",
    "            self.y = x_or_pair[1]\n",
    "        else:\n",
    "            self.x = x_or_pair\n",
    "            self.y = y\n",
    "            \n",
    "    # Addition\n",
    "    def __add__(self, other):\n",
    "        if isinstance(other, Vec2d):\n",
    "            return Vec2d(self.x + other.x, self.y + other.y)\n",
    "        elif hasattr(other, \"__getitem__\"):\n",
    "            return Vec2d(self.x + other[0], self.y + other[1])\n",
    "        else:\n",
    "            return Vec2d(self.x + other, self.y + other)\n",
    "\n",
    "    # Subtraction\n",
    "    def __sub__(self, other):\n",
    "        if isinstance(other, Vec2d):\n",
    "            return Vec2d(self.x - other.x, self.y - other.y)\n",
    "        elif (hasattr(other, \"__getitem__\")):\n",
    "            return Vec2d(self.x - other[0], self.y - other[1])\n",
    "        else:\n",
    "            return Vec2d(self.x - other, self.y - other)\n",
    "    \n",
    "    # Vector length\n",
    "    def get_length(self):\n",
    "        return math.sqrt(self.x**2 + self.y**2)\n",
    "    \n",
    "    # rotate vector\n",
    "    def rotated(self, angle):        \n",
    "        cos = math.cos(angle)\n",
    "        sin = math.sin(angle)\n",
    "        x = self.x*cos - self.y*sin\n",
    "        y = self.x*sin + self.y*cos\n",
    "        return Vec2d(x, y)"
   ]
  },
  {
   "cell_type": "markdown",
   "metadata": {},
   "source": [
    "# Correlated Random Walk - 1 Trajectory"
   ]
  },
  {
   "cell_type": "code",
   "execution_count": null,
   "metadata": {},
   "outputs": [],
   "source": [
    "# Function to be optimized\n"
   ]
  },
  {
   "cell_type": "code",
   "execution_count": null,
   "metadata": {},
   "outputs": [],
   "source": [
    "# Run gradient descent algorithm"
   ]
  },
  {
   "cell_type": "code",
   "execution_count": null,
   "metadata": {},
   "outputs": [],
   "source": [
    "# Plot the results"
   ]
  }
 ],
 "metadata": {
  "kernelspec": {
   "display_name": "python310_ve",
   "language": "python",
   "name": "python310_ve"
  },
  "language_info": {
   "codemirror_mode": {
    "name": "ipython",
    "version": 3
   },
   "file_extension": ".py",
   "mimetype": "text/x-python",
   "name": "python",
   "nbconvert_exporter": "python",
   "pygments_lexer": "ipython3",
   "version": "3.10.11"
  }
 },
 "nbformat": 4,
 "nbformat_minor": 4
}
