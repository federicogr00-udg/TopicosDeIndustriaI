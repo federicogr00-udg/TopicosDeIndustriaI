{
 "cells": [
  {
   "cell_type": "markdown",
   "id": "e8fe10af-62da-4081-8288-a92b2c4481a6",
   "metadata": {},
   "source": [
    "# Homework 3 - Activity 1\n",
    "\n",
    "**Name:** -- Federico Garcia Rodriguez --\n",
    "\n",
    "**e-mail:** -- federico.garcia0747@alumnos.udg.mx --\n",
    "\n",
    "**code:** -- 224807479 --"
   ]
  },
  {
   "cell_type": "markdown",
   "id": "c376b5c9-16e4-43a3-ab1b-6f29600ca59b",
   "metadata": {},
   "source": [
    "# MODULES"
   ]
  },
  {
   "cell_type": "code",
   "execution_count": 2,
   "id": "4246bbfc-f35f-4a86-a637-32f224ca4c6f",
   "metadata": {},
   "outputs": [],
   "source": [
    "import numpy as np\n",
    "import math\n",
    "\n",
    "import plotly.graph_objects as go\n",
    "\n",
    "from scipy.stats import exponweib\n",
    "from scipy.spatial import distance\n",
    "\n",
    "import pandas as pd"
   ]
  },
  {
   "cell_type": "markdown",
   "id": "b3773cce-c3a8-4845-a5b8-cfd21b99a362",
   "metadata": {},
   "source": [
    "# Classes"
   ]
  },
  {
   "cell_type": "code",
   "execution_count": 3,
   "id": "0392d1ce-3490-4586-aac8-dfeb12b3f4eb",
   "metadata": {},
   "outputs": [],
   "source": [
    "class Vec2d(object):\n",
    "    \"\"\"2d vector class, supports vector and scalar operators,\n",
    "       and also provides a bunch of high level functions\n",
    "       \"\"\"\n",
    "    __slots__ = ['x', 'y']\n",
    "\n",
    "    def __init__(self, x_or_pair, y = None):\n",
    "        if y == None:            \n",
    "            self.x = x_or_pair[0]\n",
    "            self.y = x_or_pair[1]\n",
    "        else:\n",
    "            self.x = x_or_pair\n",
    "            self.y = y\n",
    "            \n",
    "    # Addition\n",
    "    def __add__(self, other):\n",
    "        if isinstance(other, Vec2d):\n",
    "            return Vec2d(self.x + other.x, self.y + other.y)\n",
    "        elif hasattr(other, \"__getitem__\"):\n",
    "            return Vec2d(self.x + other[0], self.y + other[1])\n",
    "        else:\n",
    "            return Vec2d(self.x + other, self.y + other)\n",
    "\n",
    "    # Subtraction\n",
    "    def __sub__(self, other):\n",
    "        if isinstance(other, Vec2d):\n",
    "            return Vec2d(self.x - other.x, self.y - other.y)\n",
    "        elif (hasattr(other, \"__getitem__\")):\n",
    "            return Vec2d(self.x - other[0], self.y - other[1])\n",
    "        else:\n",
    "            return Vec2d(self.x - other, self.y - other)\n",
    "    \n",
    "    # Vector length\n",
    "    def get_length(self):\n",
    "        return math.sqrt(self.x**2 + self.y**2)\n",
    "    \n",
    "    # rotate vector\n",
    "    def rotated(self, angle):        \n",
    "        cos = math.cos(angle)\n",
    "        sin = math.sin(angle)\n",
    "        x = self.x*cos - self.y*sin\n",
    "        y = self.x*sin + self.y*cos\n",
    "        return Vec2d(x, y)"
   ]
  },
  {
   "cell_type": "markdown",
   "id": "b6419aba-e9aa-4eb6-81fb-bcd1cbf84a0d",
   "metadata": {},
   "source": [
    "# Functions"
   ]
  },
  {
   "cell_type": "code",
   "execution_count": 4,
   "id": "2aec1928-8c0b-42b5-893a-6972ccf903c6",
   "metadata": {},
   "outputs": [],
   "source": [
    "#####################################################################################\n",
    "# Brownian motion trajectoy\n",
    "#####################################################################################\n",
    "def bm_2d(n_steps=1000, speed=5, s_pos=[0,0]):\n",
    "    \"\"\"\n",
    "    Arguments:\n",
    "        n_steps:\n",
    "        speed:\n",
    "        s_pos:\n",
    "    Returns:\n",
    "        BM_2d_df:\n",
    "    \"\"\"\n",
    "    # Init velocity vector\n",
    "    velocity =Vec2d(speed,0)\n",
    "    \n",
    "    # Init DF\n",
    "    BM_2d_df = pd.DataFrame(columns=['x_pos','y_pos'])    \n",
    "    # Add initial position\n",
    "    temp_df = pd.DataFrame([{'x_pos':s_pos[0], 'y_pos':s_pos[1]}])    \n",
    "    BM_2d_df = pd.concat([BM_2d_df, temp_df], ignore_index=True)\n",
    "    \n",
    "    # Generate the trajectory\n",
    "    for i in range(n_steps-1):        \n",
    "        turn_angle = np.random.uniform(low=-np.pi, high=np.pi)\n",
    "        velocity = velocity.rotated(turn_angle)\n",
    "    \n",
    "        temp_df = pd.DataFrame([{'x_pos':BM_2d_df.x_pos[i]+velocity.x, 'y_pos':BM_2d_df.y_pos[i]+velocity.y}])    \n",
    "        BM_2d_df = pd.concat([BM_2d_df, temp_df], ignore_index=True)\n",
    "        \n",
    "    return BM_2d_df"
   ]
  },
  {
   "cell_type": "code",
   "execution_count": null,
   "id": "5b797174-1c61-48a3-9188-a98ee7f77495",
   "metadata": {},
   "outputs": [],
   "source": []
  }
 ],
 "metadata": {
  "kernelspec": {
   "display_name": "python310_nve",
   "language": "python",
   "name": "python310_nve"
  },
  "language_info": {
   "codemirror_mode": {
    "name": "ipython",
    "version": 3
   },
   "file_extension": ".py",
   "mimetype": "text/x-python",
   "name": "python",
   "nbconvert_exporter": "python",
   "pygments_lexer": "ipython3",
   "version": "3.10.0"
  }
 },
 "nbformat": 4,
 "nbformat_minor": 5
}
