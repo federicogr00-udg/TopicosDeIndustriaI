{
 "cells": [
  {
   "cell_type": "markdown",
   "metadata": {},
   "source": [
    "# Homework 3 - Activity 3\n",
    "\n",
    "**Name:** -- Federico Garcia Rodriguez --\n",
    "\n",
    "**e-mail:** -- federico.garcia0747@alumnos.udg.mx --\n",
    "\n",
    "**code:** -- 224807479 --"
   ]
  },
  {
   "cell_type": "markdown",
   "metadata": {},
   "source": [
    "# MODULES"
   ]
  },
  {
   "cell_type": "code",
   "execution_count": 12,
   "metadata": {},
   "outputs": [],
   "source": [
    "# Load modules\n",
    "import numpy as np\n",
    "import matplotlib.pyplot as plt\n",
    "\n",
    "import pandas as pd\n",
    "\n",
    "import math\n",
    "\n",
    "from scipy.stats import wrapcauchy\n",
    "from scipy.stats import levy_stable\n",
    "from scipy.stats import exponweib\n",
    "\n",
    "import plotly.graph_objects as go"
   ]
  },
  {
   "cell_type": "markdown",
   "metadata": {},
   "source": [
    "# CLASSES"
   ]
  },
  {
   "cell_type": "code",
   "execution_count": 13,
   "metadata": {},
   "outputs": [],
   "source": [
    "class Vec2d(object):\n",
    "    \"\"\"2d vector class, supports vector and scalar operators,\n",
    "       and also provides a bunch of high level functions\n",
    "       \"\"\"\n",
    "    __slots__ = ['x', 'y']\n",
    "\n",
    "    def __init__(self, x_or_pair, y = None):\n",
    "        if y == None:            \n",
    "            self.x = x_or_pair[0]\n",
    "            self.y = x_or_pair[1]\n",
    "        else:\n",
    "            self.x = x_or_pair\n",
    "            self.y = y\n",
    "            \n",
    "    # Addition\n",
    "    def __add__(self, other):\n",
    "        if isinstance(other, Vec2d):\n",
    "            return Vec2d(self.x + other.x, self.y + other.y)\n",
    "        elif hasattr(other, \"__getitem__\"):\n",
    "            return Vec2d(self.x + other[0], self.y + other[1])\n",
    "        else:\n",
    "            return Vec2d(self.x + other, self.y + other)\n",
    "\n",
    "    # Subtraction\n",
    "    def __sub__(self, other):\n",
    "        if isinstance(other, Vec2d):\n",
    "            return Vec2d(self.x - other.x, self.y - other.y)\n",
    "        elif (hasattr(other, \"__getitem__\")):\n",
    "            return Vec2d(self.x - other[0], self.y - other[1])\n",
    "        else:\n",
    "            return Vec2d(self.x - other, self.y - other)\n",
    "    \n",
    "    # Vector length\n",
    "    def get_length(self):\n",
    "        return math.sqrt(self.x**2 + self.y**2)\n",
    "    \n",
    "    # rotate vector\n",
    "    def rotated(self, angle):        \n",
    "        cos = math.cos(angle)\n",
    "        sin = math.sin(angle)\n",
    "        x = self.x*cos - self.y*sin\n",
    "        y = self.x*sin + self.y*cos\n",
    "        return Vec2d(x, y)\n",
    "   "
   ]
  },
  {
   "cell_type": "markdown",
   "metadata": {},
   "source": [
    "# Functions"
   ]
  },
  {
   "cell_type": "code",
   "execution_count": 38,
   "metadata": {},
   "outputs": [],
   "source": [
    "#####################################################################################\n",
    "# Correlated Random Walk motion trajectoy\n",
    "#####################################################################################\n",
    "def crw_2d(n_steps=1000, speed=5, s_pos=[0,0]):\n",
    "    \"\"\"\n",
    "    Arguments:\n",
    "        n_steps:\n",
    "        speed:\n",
    "        s_pos:\n",
    "    Returns:\n",
    "        CRW_2d_df:\n",
    "    \"\"\"\n",
    "    # Init velocity vector\n",
    "    velocity =Vec2d(speed,0)\n",
    "    CRW_exponent = 0.3\n",
    "    \n",
    "    # Init DF\n",
    "    CRW_2d_df = pd.DataFrame(columns=['x_pos','y_pos'])    \n",
    "    # Add initial position\n",
    "    temp_df = pd.DataFrame([{'x_pos':s_pos[0], 'y_pos':s_pos[1]}])    \n",
    "    CRW_2d_df = pd.concat([CRW_2d_df, temp_df], ignore_index=True)\n",
    "\n",
    "    r = wrapcauchy.rvs(CRW_exponent, size=n_steps)\n",
    "    \n",
    "    # Generate the trajectory\n",
    "    for i in range(n_steps-1):        \n",
    "        turn_angle = turn_angle = r[i]\n",
    "        velocity = velocity.rotated(turn_angle)\n",
    "    \n",
    "        temp_df = pd.DataFrame([{'x_pos':CRW_2d_df.x_pos[i]+velocity.x, 'y_pos':CRW_2d_df.y_pos[i]+velocity.y}])    \n",
    "        CRW_2d_df = pd.concat([CRW_2d_df, temp_df], ignore_index=True)\n",
    "        \n",
    "    return CRW_2d_df\n",
    "\n",
    "#####################################################################################\n",
    "# Turning angles values\n",
    "#####################################################################################\n",
    "def turning_angles(Vec):\n",
    "    \"\"\"\n",
    "    Arguments:\n",
    "        Vec: Vector with x,y coordinates\n",
    "    Returns:\n",
    "        turning_angles: Array with the turning angles\n",
    "    \"\"\"\n",
    "    \n",
    "    angles=[]\n",
    "    for a in Vec:\n",
    "        print(a.x_pos[0])\n",
    "        b = float(a.x_pos)\n",
    "        c = float(a.y_pos)\n",
    "        angle = math.acos(b/c)\n",
    "        angles.add(angle)\n",
    "    #print(angles)\n",
    "    return angles"
   ]
  },
  {
   "cell_type": "markdown",
   "metadata": {},
   "source": [
    "# Turning angle distribution - source dist. vs observed dist.)"
   ]
  },
  {
   "cell_type": "code",
   "execution_count": 39,
   "metadata": {},
   "outputs": [
    {
     "ename": "AttributeError",
     "evalue": "'str' object has no attribute 'x_pos'",
     "output_type": "error",
     "traceback": [
      "\u001b[1;31m---------------------------------------------------------------------------\u001b[0m",
      "\u001b[1;31mAttributeError\u001b[0m                            Traceback (most recent call last)",
      "Cell \u001b[1;32mIn[39], line 15\u001b[0m\n\u001b[0;32m     10\u001b[0m \u001b[38;5;66;03m#CRW_2d = np.ones(shape=(n_steps,2))*s_pos\u001b[39;00m\n\u001b[0;32m     11\u001b[0m \u001b[38;5;66;03m#r = wrapcauchy.rvs(CRW_exponent, size=n_steps)\u001b[39;00m\n\u001b[0;32m     13\u001b[0m CRW_2d_df_6 \u001b[38;5;241m=\u001b[39m crw_2d(n_steps\u001b[38;5;241m=\u001b[39m\u001b[38;5;241m1000\u001b[39m, speed\u001b[38;5;241m=\u001b[39m\u001b[38;5;241m6\u001b[39m)\n\u001b[1;32m---> 15\u001b[0m angles_dist \u001b[38;5;241m=\u001b[39m \u001b[43mturning_angles\u001b[49m\u001b[43m(\u001b[49m\u001b[43mCRW_2d_df_6\u001b[49m\u001b[43m)\u001b[49m\n\u001b[0;32m     17\u001b[0m fig, ax \u001b[38;5;241m=\u001b[39m plt\u001b[38;5;241m.\u001b[39msubplots(\u001b[38;5;241m1\u001b[39m,\u001b[38;5;241m1\u001b[39m)\n\u001b[0;32m     19\u001b[0m fig\u001b[38;5;241m.\u001b[39mset_figheight(\u001b[38;5;241m5\u001b[39m)\n",
      "Cell \u001b[1;32mIn[38], line 48\u001b[0m, in \u001b[0;36mturning_angles\u001b[1;34m(Vec)\u001b[0m\n\u001b[0;32m     46\u001b[0m angles\u001b[38;5;241m=\u001b[39m[]\n\u001b[0;32m     47\u001b[0m \u001b[38;5;28;01mfor\u001b[39;00m a \u001b[38;5;129;01min\u001b[39;00m Vec:\n\u001b[1;32m---> 48\u001b[0m     \u001b[38;5;28mprint\u001b[39m(\u001b[43ma\u001b[49m\u001b[38;5;241;43m.\u001b[39;49m\u001b[43mx_pos\u001b[49m[\u001b[38;5;241m0\u001b[39m])\n\u001b[0;32m     49\u001b[0m     b \u001b[38;5;241m=\u001b[39m \u001b[38;5;28mfloat\u001b[39m(a\u001b[38;5;241m.\u001b[39mx_pos)\n\u001b[0;32m     50\u001b[0m     c \u001b[38;5;241m=\u001b[39m \u001b[38;5;28mfloat\u001b[39m(a\u001b[38;5;241m.\u001b[39my_pos)\n",
      "\u001b[1;31mAttributeError\u001b[0m: 'str' object has no attribute 'x_pos'"
     ]
    }
   ],
   "source": [
    "CRW_exponent = 0.9\n",
    "n_steps = 500\n",
    "\n",
    "resolution = 200\n",
    "\n",
    "aux_domain = np.linspace(-2,8, resolution)\n",
    "\n",
    "cauchy_pdf = np.array([wrapcauchy.pdf(i, CRW_exponent) for i in aux_domain])\n",
    "\n",
    "#CRW_2d = np.ones(shape=(n_steps,2))*s_pos\n",
    "#r = wrapcauchy.rvs(CRW_exponent, size=n_steps)\n",
    "\n",
    "CRW_2d_df_6 = crw_2d(n_steps=1000, speed=6)\n",
    "\n",
    "angles_dist = turning_angles(CRW_2d_df_6)\n",
    "\n",
    "fig, ax = plt.subplots(1,1)\n",
    "\n",
    "fig.set_figheight(5)\n",
    "fig.set_figwidth(10)\n",
    "\n",
    "ax.hist(r, bins=100, density=True, histtype='stepfilled', alpha=0.5, label='observed_0.9')\n",
    "\n",
    "ax.plot(aux_domain, angles_dist, 'r-', lw = 2, alpha=0.5, label='cauchy_0.9')\n",
    "\n",
    "ax.set_xticks(np.arange(-2, 10, 2))\n",
    "ax.margins(0.2, 0.2)\n",
    "ax.autoscale(enable=True, axis=\"x\", tight=True)\n",
    "ax.legend(loc='best')\n",
    "\n",
    "plt.show()"
   ]
  },
  {
   "cell_type": "code",
   "execution_count": null,
   "metadata": {},
   "outputs": [],
   "source": []
  }
 ],
 "metadata": {
  "kernelspec": {
   "display_name": "python310_nve",
   "language": "python",
   "name": "python310_nve"
  },
  "language_info": {
   "codemirror_mode": {
    "name": "ipython",
    "version": 3
   },
   "file_extension": ".py",
   "mimetype": "text/x-python",
   "name": "python",
   "nbconvert_exporter": "python",
   "pygments_lexer": "ipython3",
   "version": "3.10.0"
  }
 },
 "nbformat": 4,
 "nbformat_minor": 4
}
