{
 "cells": [
  {
   "cell_type": "markdown",
   "metadata": {},
   "source": [
    "# Homework 1\n",
    "\n",
    "**Name:** -- Federico Garcia Rodriguez --\n",
    "\n",
    "**e-mail:** -- federico.garcia0747@alumnos.udg.mx --"
   ]
  },
  {
   "cell_type": "markdown",
   "metadata": {},
   "source": [
    "# MODULES"
   ]
  },
  {
   "cell_type": "code",
   "execution_count": 124,
   "metadata": {},
   "outputs": [],
   "source": [
    "# Load modules\n",
    "import numpy as np\n",
    "import matplotlib.pyplot as plt\n",
    "from math import sin, sqrt, fabs"
   ]
  },
  {
   "cell_type": "markdown",
   "metadata": {},
   "source": [
    "# Theory on the Gradient Descent algorithm"
   ]
  },
  {
   "cell_type": "code",
   "execution_count": 125,
   "metadata": {},
   "outputs": [],
   "source": [
    "# Function to be optimized\n",
    "# Eggholder function\n",
    "def f_eggholder(x, y):\n",
    "    for unX in x:\n",
    "        for unY in y:\n",
    "            #print('x={}, y={} \\n'.format(x,y))\n",
    "            return -(y + 47) * sin(sqrt(fabs((unX / 2) + (unY * 47)))) - x * sin(sqrt(fabs(unX - (unY + 47))))\n"
   ]
  },
  {
   "cell_type": "code",
   "execution_count": 126,
   "metadata": {},
   "outputs": [],
   "source": [
    "# Run gradient descent algorithm\n",
    "x_range = np.arange(-15, 15, 0.1)\n",
    "y_range = np.arange(-15, 15, 0.1)\n",
    "\n",
    "X, Y = np.meshgrid(x_range, y_range)\n",
    "Z = []\n",
    "for unX in X:\n",
    "   for unY in Y:\n",
    "       Z.append(f_eggholder(unX.astype(float), unY.astype(float)))\n"
   ]
  },
  {
   "cell_type": "code",
   "execution_count": 127,
   "metadata": {},
   "outputs": [],
   "source": [
    "# Plot the results"
   ]
  }
 ],
 "metadata": {
  "kernelspec": {
   "display_name": "python310_ve",
   "language": "python",
   "name": "python310_ve"
  },
  "language_info": {
   "codemirror_mode": {
    "name": "ipython",
    "version": 3
   },
   "file_extension": ".py",
   "mimetype": "text/x-python",
   "name": "python",
   "nbconvert_exporter": "python",
   "pygments_lexer": "ipython3",
   "version": "3.10.11"
  }
 },
 "nbformat": 4,
 "nbformat_minor": 4
}
